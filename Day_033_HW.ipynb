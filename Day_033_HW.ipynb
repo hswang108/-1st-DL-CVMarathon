{
 "cells": [
  {
   "cell_type": "markdown",
   "metadata": {},
   "source": [
    "## 練習時間"
   ]
  },
  {
   "cell_type": "markdown",
   "metadata": {},
   "source": [
    "請觀看李宏毅教授以神奇寶貝進化 CP 值預測的範例，解說何謂機器學習與過擬合。並回答以下問題"
   ]
  },
  {
   "cell_type": "markdown",
   "metadata": {},
   "source": [
    "[youtube](https://www.youtube.com/watch?v=fegAeph9UaA)"
   ]
  },
  {
   "cell_type": "markdown",
   "metadata": {},
   "source": [
    "### 1. 模型的泛化能力 (generalization) 是指什麼？ \n",
    "### 2. 分類問題與回歸問題分別可用的目標函數有哪些？"
   ]
  },
  {
   "cell_type": "markdown",
   "metadata": {},
   "source": [
    "Q1：模型的泛化能力 (generalization) 是指什麼？\n",
    "A1：針對未見過的input數據(Testing data)經過模型運算得到output結果的準確度"
   ]
  },
  {
   "cell_type": "markdown",
   "metadata": {},
   "source": [
    "Q2：分類問題與回歸問題分別可用的目標函數有哪些？\n",
    "A2-1：分類問題：\n",
    "Binary Classification：\n",
    "a. Logistic Regression\n",
    "b. k-Nearest Neighbors\n",
    "c. Decision Trees\n",
    "....\n",
    "\n",
    "Multi-Class Classification：\n",
    "a. k-Nearest Neighbors\n",
    "b. Decision Trees\n",
    "c. Naive Bayes\n",
    "....\n",
    "\n",
    "Multi-Label Classification：\n",
    "a. Multi-label Decision Trees\n",
    "b. Multi-label Random Forests\n",
    "c. Multi-label Gradient Boosting\n",
    "....\n",
    "\n",
    "A2-2：回歸問題：\n",
    "1. Linear Regression\n",
    "2. Logistic Regression\n",
    "3. GradientBoostingRegression"
   ]
  }
 ],
 "metadata": {
  "kernelspec": {
   "display_name": "Python 3",
   "language": "python",
   "name": "python3"
  },
  "language_info": {
   "codemirror_mode": {
    "name": "ipython",
    "version": 3
   },
   "file_extension": ".py",
   "mimetype": "text/x-python",
   "name": "python",
   "nbconvert_exporter": "python",
   "pygments_lexer": "ipython3",
   "version": "3.7.3"
  }
 },
 "nbformat": 4,
 "nbformat_minor": 2
}
