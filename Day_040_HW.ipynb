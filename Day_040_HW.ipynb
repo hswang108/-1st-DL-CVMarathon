{
 "cells": [
  {
   "cell_type": "markdown",
   "metadata": {},
   "source": [
    "## [作業重點]\n",
    "使用 Sklearn 中的 Lasso, Ridge 模型，來訓練各種資料集，務必了解送進去模型訓練的**資料型態**為何，也請了解模型中各項參數的意義。\n",
    "\n",
    "機器學習的模型非常多種，但要訓練的資料多半有固定的格式，確保你了解訓練資料的格式為何，這樣在應用新模型時，就能夠最快的上手開始訓練！"
   ]
  },
  {
   "cell_type": "markdown",
   "metadata": {},
   "source": [
    "## 練習時間\n",
    "試著使用 sklearn datasets 的其他資料集 (boston, ...)，來訓練自己的線性迴歸模型，並加上適當的正則化來觀察訓練情形。"
   ]
  },
  {
   "cell_type": "code",
   "execution_count": 1,
   "metadata": {},
   "outputs": [
    {
     "name": "stderr",
     "output_type": "stream",
     "text": [
      "C:\\ProgramData\\Anaconda3\\lib\\importlib\\_bootstrap.py:219: RuntimeWarning: numpy.ufunc size changed, may indicate binary incompatibility. Expected 192 from C header, got 216 from PyObject\n",
      "  return f(*args, **kwds)\n"
     ]
    }
   ],
   "source": [
    "import numpy as np\n",
    "import matplotlib.pyplot as plt\n",
    "from sklearn import datasets, linear_model\n",
    "from sklearn.model_selection import train_test_split\n",
    "from sklearn.metrics import mean_squared_error"
   ]
  },
  {
   "cell_type": "code",
   "execution_count": 3,
   "metadata": {},
   "outputs": [
    {
     "name": "stdout",
     "output_type": "stream",
     "text": [
      "Lasso modle coefficient(alpha=0):  [-1.24433974e-01  4.36294774e-02  7.08477039e-03  3.32155669e+00\n",
      " -1.62508088e+01  3.79375366e+00 -8.47429239e-03 -1.39955608e+00\n",
      "  2.97193303e-01 -1.12646278e-02 -9.18104130e-01  8.10701503e-03\n",
      " -5.06827327e-01]\n",
      "Lasso modle coefficient(alpha=0.25):  [-0.11204451  0.04767015 -0.02444087  0.         -0.          3.2416917\n",
      " -0.01120178 -1.04859892  0.27694493 -0.01425047 -0.74428253  0.00903018\n",
      " -0.58508797]\n",
      "Lasso modle coefficient(alpha=0.50):  [-9.97719330e-02  4.78920890e-02 -9.45858930e-03  0.00000000e+00\n",
      " -0.00000000e+00  2.43762393e+00 -1.76456941e-03 -9.04601752e-01\n",
      "  2.71645068e-01 -1.44403243e-02 -7.24026647e-01  8.37707206e-03\n",
      " -6.42275506e-01]\n",
      "Lasso modle coefficient(alpha=0.75):  [-0.08820904  0.04715391 -0.          0.         -0.          1.65866355\n",
      "  0.00266411 -0.79689894  0.26411212 -0.01434487 -0.70532844  0.00777302\n",
      " -0.69096037]\n",
      "Lasso modle coefficient(alpha=1):  [-0.07657719  0.04666006 -0.          0.         -0.          0.85198704\n",
      "  0.01067277 -0.6767941   0.2550972  -0.01404862 -0.68552501  0.00710097\n",
      " -0.74459658]\n",
      "MSE(alpha=0): 31.87\n",
      "MSE(alpha=0.25): 27.31\n",
      "MSE(alpha=0.50): 28.26\n",
      "MSE(alpha=0.75): 29.83\n",
      "MSE(alpha=1): 31.87\n"
     ]
    },
    {
     "name": "stderr",
     "output_type": "stream",
     "text": [
      "C:\\ProgramData\\Anaconda3\\lib\\site-packages\\ipykernel_launcher.py:17: UserWarning: With alpha=0, this algorithm does not converge well. You are advised to use the LinearRegression estimator\n",
      "C:\\ProgramData\\Anaconda3\\lib\\site-packages\\sklearn\\linear_model\\coordinate_descent.py:475: UserWarning: Coordinate descent with no regularization may lead to unexpected results and is discouraged.\n",
      "  positive)\n",
      "C:\\ProgramData\\Anaconda3\\lib\\site-packages\\sklearn\\linear_model\\coordinate_descent.py:475: ConvergenceWarning: Objective did not converge. You might want to increase the number of iterations. Duality gap: 4252.908836414679, tolerance: 3.187388306930693\n",
      "  positive)\n"
     ]
    }
   ],
   "source": [
    "#Lasso\n",
    "#從數據集取得數據\n",
    "boston = datasets.load_boston()\n",
    "\n",
    "#將數據切分成 x_train, x_test, y_train, y_test\n",
    "x_train, x_test, y_train, y_test = train_test_split(boston.data, boston.target, test_size = 0.2, random_state = 87)\n",
    "\n",
    "#導入Lasso模型\n",
    "lasso_0 = linear_model.Lasso(alpha = 0)\n",
    "lasso_p25 = linear_model.Lasso(alpha = 0.25)\n",
    "lasso_p50 = linear_model.Lasso(alpha = 0.50)\n",
    "lasso_p75 = linear_model.Lasso(alpha = 0.75)\n",
    "lasso_1 = linear_model.Lasso(alpha = 1)\n",
    "\n",
    "\n",
    "#訓練模型\n",
    "lasso_0.fit(x_train, y_train)\n",
    "lasso_p25.fit(x_train, y_train)\n",
    "lasso_p50.fit(x_train, y_train)\n",
    "lasso_p75.fit(x_train, y_train)\n",
    "lasso_1.fit(x_train, y_train)\n",
    "\n",
    "#取得預測結果\n",
    "y_pred_0 = lasso_1.predict(x_test)\n",
    "y_pred_p25 = lasso_p25.predict(x_test)\n",
    "y_pred_p50 = lasso_p50.predict(x_test)\n",
    "y_pred_p75 = lasso_p75.predict(x_test)\n",
    "y_pred_1 = lasso_1.predict(x_test)\n",
    "\n",
    "#確認模型參數\n",
    "print(\"Lasso modle coefficient(alpha=0): \", lasso_0.coef_)\n",
    "print(\"Lasso modle coefficient(alpha=0.25): \", lasso_p25.coef_)\n",
    "print(\"Lasso modle coefficient(alpha=0.50): \", lasso_p50.coef_)\n",
    "print(\"Lasso modle coefficient(alpha=0.75): \", lasso_p75.coef_)\n",
    "print(\"Lasso modle coefficient(alpha=1): \", lasso_1.coef_)\n",
    "\n",
    "#以MSE確認預測結果\n",
    "print(\"MSE(alpha=0): %.2f\" %mean_squared_error(y_test, y_pred_0))\n",
    "print(\"MSE(alpha=0.25): %.2f\" %mean_squared_error(y_test, y_pred_p25))\n",
    "print(\"MSE(alpha=0.50): %.2f\" %mean_squared_error(y_test, y_pred_p50))\n",
    "print(\"MSE(alpha=0.75): %.2f\" %mean_squared_error(y_test, y_pred_p75))\n",
    "print(\"MSE(alpha=1): %.2f\" %mean_squared_error(y_test, y_pred_1))"
   ]
  },
  {
   "cell_type": "code",
   "execution_count": null,
   "metadata": {},
   "outputs": [],
   "source": [
    "#依以上結果Boston 以Lasso模型訓練在 0 ~ .25間出現最低Error值"
   ]
  }
 ],
 "metadata": {
  "kernelspec": {
   "display_name": "Python 3",
   "language": "python",
   "name": "python3"
  },
  "language_info": {
   "codemirror_mode": {
    "name": "ipython",
    "version": 3
   },
   "file_extension": ".py",
   "mimetype": "text/x-python",
   "name": "python",
   "nbconvert_exporter": "python",
   "pygments_lexer": "ipython3",
   "version": "3.7.3"
  }
 },
 "nbformat": 4,
 "nbformat_minor": 2
}
