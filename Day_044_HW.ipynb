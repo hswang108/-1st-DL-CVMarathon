{
 "cells": [
  {
   "cell_type": "markdown",
   "metadata": {},
   "source": [
    "## [作業重點]\n",
    "確保你了解隨機森林模型中每個超參數的意義，並觀察調整超參數對結果的影響"
   ]
  },
  {
   "cell_type": "markdown",
   "metadata": {},
   "source": [
    "## 作業\n",
    "\n",
    "1. 試著調整 RandomForestClassifier(...) 中的參數，並觀察是否會改變結果？\n",
    "2. 改用其他資料集 (boston, wine)，並與回歸模型與決策樹的結果進行比較"
   ]
  },
  {
   "cell_type": "code",
   "execution_count": 1,
   "metadata": {},
   "outputs": [],
   "source": [
    "import numpy as np\n",
    "from sklearn import datasets, metrics\n",
    "from sklearn.ensemble import RandomForestClassifier\n",
    "from sklearn.tree import DecisionTreeClassifier\n",
    "from sklearn.linear_model import LinearRegression\n",
    "from sklearn.model_selection import train_test_split"
   ]
  },
  {
   "cell_type": "code",
   "execution_count": 2,
   "metadata": {},
   "outputs": [],
   "source": [
    "#從sklearn資料庫讀取鳶尾花數據\n",
    "iris = datasets.load_iris()\n",
    "\n",
    "#將數據切分成訓練集 及 測試集\n",
    "x_train, x_test, y_train, y_test = train_test_split(iris.data, iris.target, test_size=0.25, random_state = 87)\n",
    "\n",
    "#建立模型\n",
    "#範例預設值\n",
    "clf_dft = RandomForestClassifier(n_estimators=20, max_depth=4)\n",
    "\n",
    "#使用10棵樹，每棵樹最大深度為3，Criterion使用Entropy\n",
    "clf_test = RandomForestClassifier(n_estimators=10, max_depth=3, criterion=\"entropy\")\n",
    "\n",
    "#訓練模型\n",
    "clf_dft.fit(x_train, y_train)\n",
    "clf_test.fit(x_train, y_train)\n",
    "\n",
    "#取得預測結果\n",
    "y_pred_dft = clf_dft.predict(x_test)\n",
    "y_pred_test = clf_test.predict(x_test)"
   ]
  },
  {
   "cell_type": "code",
   "execution_count": 3,
   "metadata": {},
   "outputs": [
    {
     "name": "stdout",
     "output_type": "stream",
     "text": [
      "Accuracy(Default): 0.974\n",
      "Accuracy(Test): 0.974\n"
     ]
    }
   ],
   "source": [
    "#比較兩種超參數精準度差異\n",
    "acc_dft = metrics.accuracy_score(y_test, y_pred_dft)\n",
    "acc_test = metrics.accuracy_score(y_test, y_pred_test)\n",
    "print(\"Accuracy(Default): %.3f\" %acc_dft)\n",
    "print(\"Accuracy(Test): %.3f\" %acc_test)"
   ]
  },
  {
   "cell_type": "code",
   "execution_count": 4,
   "metadata": {},
   "outputs": [
    {
     "name": "stdout",
     "output_type": "stream",
     "text": [
      "Feature importance(Default):  [0.11392678 0.02864208 0.46041154 0.3970196 ]\n",
      "Feature importance(Test):  [0.0899752  0.00606371 0.31612562 0.58783547]\n"
     ]
    }
   ],
   "source": [
    "#確認特徵重要性\n",
    "print(\"Feature importance(Default): \", clf_dft.feature_importances_)\n",
    "print(\"Feature importance(Test): \", clf_test.feature_importances_)"
   ]
  },
  {
   "cell_type": "code",
   "execution_count": 6,
   "metadata": {},
   "outputs": [],
   "source": [
    "#嘗試解析boston數據\n",
    "wine = datasets.load_wine()\n",
    "\n",
    "#將數據切分成訓練集 及 測試集\n",
    "x_train, x_test, y_train, y_test = train_test_split(wine.data, wine.target, test_size = 0.3, random_state = 87)\n",
    "\n",
    "#建立模型\n",
    "reg = LinearRegression()\n",
    "clf = RandomForestClassifier(n_estimators=20, max_depth=2)\n",
    "tree = DecisionTreeClassifier(max_depth=2)"
   ]
  },
  {
   "cell_type": "code",
   "execution_count": 8,
   "metadata": {
    "scrolled": true
   },
   "outputs": [],
   "source": [
    "#訓練模型\n",
    "reg.fit(x_train, y_train)\n",
    "clf.fit(x_train, y_train)\n",
    "tree.fit(x_train, y_train)\n",
    "\n",
    "#取得預測結果\n",
    "y_pred_reg = reg.predict(x_test)\n",
    "y_pred_clf = clf.predict(x_test)\n",
    "y_pred_tree = tree.predict(x_test)"
   ]
  },
  {
   "cell_type": "code",
   "execution_count": 11,
   "metadata": {},
   "outputs": [
    {
     "name": "stdout",
     "output_type": "stream",
     "text": [
      "MSE(reg):  0.07657788211274102\n",
      "MSE(clf):  0.018518518518518517\n"
     ]
    }
   ],
   "source": [
    "#導入MSE\n",
    "from sklearn.metrics import mean_squared_error\n",
    "print(\"MSE(reg): \", mean_squared_error(y_test, y_pred_reg))\n",
    "print(\"MSE(clf): \", mean_squared_error(y_test, y_pred_clf))"
   ]
  },
  {
   "cell_type": "code",
   "execution_count": 12,
   "metadata": {},
   "outputs": [
    {
     "name": "stdout",
     "output_type": "stream",
     "text": [
      "Accuracy(clf): 0.981\n",
      "Accuracy(tree): 0.889\n"
     ]
    }
   ],
   "source": [
    "#與決策樹 比較準確結果\n",
    "acc_clf = metrics.accuracy_score(y_test, y_pred_clf)\n",
    "acc_tree = metrics.accuracy_score(y_test, y_pred_tree)\n",
    "print(\"Accuracy(clf): %.3f\" %acc_clf)\n",
    "print(\"Accuracy(tree): %.3f\" %acc_tree)"
   ]
  }
 ],
 "metadata": {
  "kernelspec": {
   "display_name": "Python 3",
   "language": "python",
   "name": "python3"
  },
  "language_info": {
   "codemirror_mode": {
    "name": "ipython",
    "version": 3
   },
   "file_extension": ".py",
   "mimetype": "text/x-python",
   "name": "python",
   "nbconvert_exporter": "python",
   "pygments_lexer": "ipython3",
   "version": "3.7.3"
  }
 },
 "nbformat": 4,
 "nbformat_minor": 2
}
