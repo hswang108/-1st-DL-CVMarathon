{
 "cells": [
  {
   "cell_type": "markdown",
   "metadata": {},
   "source": [
    "## [作業目標]\n",
    "了解機器學習適合應用的領域與範疇。"
   ]
  },
  {
   "cell_type": "markdown",
   "metadata": {},
   "source": [
    "## [作業重點]\n",
    "透過瞭解機器學習的運作方式，找出非常適用機器學習應用的領域及其原因"
   ]
  },
  {
   "cell_type": "markdown",
   "metadata": {},
   "source": [
    "## 作業\n",
    "請找出一個你認為機器學習可以發光發熱的領域並闡述原因? \n",
    "\n",
    "Ans:\n",
    "舉例 - 應於儲能製造業_鋰電池活化判讀(縮減時效靜置時間)\n",
    "現行鋰電池製造業在組裝完成陰、陽極材料並搭配封裝後需進行小電流活化(以電化學反應活化鋰電池)\n",
    "活化後，仍需搭配半個月到一個月不等的時效靜置，此靜置過程不僅費時且靜置後若電性表現不如預期則會造成白白浪費時間成本\n",
    "若在將活化過程中蒐集個別電池之電性數據並藉以應用於機械學習上，以機械學習建模判別良劣則可大大降低時間成本甚至可用於解析製樣異常"
   ]
  }
 ],
 "metadata": {
  "kernelspec": {
   "display_name": "Python 3",
   "language": "python",
   "name": "python3"
  },
  "language_info": {
   "codemirror_mode": {
    "name": "ipython",
    "version": 3
   },
   "file_extension": ".py",
   "mimetype": "text/x-python",
   "name": "python",
   "nbconvert_exporter": "python",
   "pygments_lexer": "ipython3",
   "version": "3.7.3"
  }
 },
 "nbformat": 4,
 "nbformat_minor": 2
}
