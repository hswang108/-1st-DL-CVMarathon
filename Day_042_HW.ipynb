{
 "cells": [
  {
   "cell_type": "markdown",
   "metadata": {},
   "source": [
    "## [作業重點]\n",
    "目前你應該已經要很清楚資料集中，資料的型態是什麼樣子囉！包含特徵 (features) 與標籤 (labels)。因此要記得未來不管什麼專案，必須要把資料清理成相同的格式，才能送進模型訓練。\n",
    "今天的作業開始踏入決策樹這個非常重要的模型，請務必確保你理解模型中每個超參數的意思，並試著調整看看，對最終預測結果的影響為何"
   ]
  },
  {
   "cell_type": "markdown",
   "metadata": {},
   "source": [
    "## 作業\n",
    "\n",
    "1. 試著調整 DecisionTreeClassifier(...) 中的參數，並觀察是否會改變結果？\n",
    "2. 改用其他資料集 (boston, wine)，並與回歸模型的結果進行比較"
   ]
  },
  {
   "cell_type": "code",
   "execution_count": 1,
   "metadata": {},
   "outputs": [],
   "source": [
    "import numpy as np\n",
    "import pandas as pd\n",
    "import matplotlib.pyplot as plt\n",
    "from sklearn import datasets, metrics\n",
    "from sklearn.tree import DecisionTreeClassifier, DecisionTreeRegressor\n",
    "from sklearn.model_selection import train_test_split"
   ]
  },
  {
   "cell_type": "code",
   "execution_count": 2,
   "metadata": {},
   "outputs": [],
   "source": [
    "#補上原範例 clf 預設超參數\n",
    "iris = datasets.load_iris()\n",
    "x_train, x_test, y_train, y_test = train_test_split(iris.data, iris.target, test_size = 0.2, random_state = 87)\n",
    "\n",
    "#建立模型\n",
    "#criterion預設gini\n",
    "clf_default = DecisionTreeClassifier()\n",
    "#criterion選用entropy\n",
    "clf_a = DecisionTreeClassifier(criterion=\"entropy\")\n",
    "#criteria預設gini, min_sample_leaf = 2\n",
    "clf_b = DecisionTreeClassifier(min_samples_leaf=2)\n",
    "\n",
    "#訓練模型\n",
    "clf_default.fit(x_train, y_train)\n",
    "clf_a.fit(x_train, y_train)\n",
    "clf_b.fit(x_train, y_train)\n",
    "\n",
    "#取得預測結果\n",
    "y_pred_default = clf_default.predict(x_test)\n",
    "y_pred_a = clf_a.predict(x_test)\n",
    "y_pred_b = clf_b.predict(x_test)"
   ]
  },
  {
   "cell_type": "code",
   "execution_count": 3,
   "metadata": {},
   "outputs": [
    {
     "name": "stdout",
     "output_type": "stream",
     "text": [
      "Accuracy(default): 0.967\n",
      "Accuracy(Entropy): 0.967\n",
      "Accuracy(Min_Samples_Leaf = 2): 0.967\n"
     ]
    }
   ],
   "source": [
    "acc_default = metrics.accuracy_score(y_test, y_pred_default)\n",
    "acc_a = metrics.accuracy_score(y_test, y_pred_a)\n",
    "acc_b = metrics.accuracy_score(y_test, y_pred_b)\n",
    "\n",
    "print(\"Accuracy(default): %.3f\" %acc_default)\n",
    "print(\"Accuracy(Entropy): %.3f\" %acc_a)\n",
    "print(\"Accuracy(Min_Samples_Leaf = 2): %.3f\" %acc_b)"
   ]
  },
  {
   "cell_type": "code",
   "execution_count": 4,
   "metadata": {},
   "outputs": [],
   "source": [
    "#Boston資料集\n",
    "\n",
    "boston = datasets.load_boston()\n",
    "x_train, x_test, y_train, y_test = train_test_split(boston.data, boston.target, test_size = 0.3, random_state = 87)\n",
    "\n",
    "#導入LinearRegression模型\n",
    "from sklearn.linear_model import LinearRegression\n",
    "\n",
    "#建立模型\n",
    "reg = LinearRegression()\n",
    "reg_tree = DecisionTreeRegressor()\n",
    "\n",
    "#訓練模型\n",
    "reg.fit(x_train, y_train)\n",
    "reg_tree.fit(x_train, y_train)\n",
    "\n",
    "#取得預測結果\n",
    "y_pred_reg = reg.predict(x_test)\n",
    "y_pred_tree = reg_tree.predict(x_test)"
   ]
  },
  {
   "cell_type": "code",
   "execution_count": 5,
   "metadata": {},
   "outputs": [
    {
     "name": "stdout",
     "output_type": "stream",
     "text": [
      "MSE(LinearRegression): 26.570\n",
      "MSE(DecisionTreeRegressor): 24.521\n"
     ]
    }
   ],
   "source": [
    "mse_reg = metrics.mean_squared_error(y_test, y_pred_reg)\n",
    "mse_tree = metrics.mean_squared_error(y_test, y_pred_tree)\n",
    "\n",
    "print(\"MSE(LinearRegression): %.3f\" %mse_reg)\n",
    "print(\"MSE(DecisionTreeRegressor): %.3f\" %mse_tree)"
   ]
  },
  {
   "cell_type": "code",
   "execution_count": null,
   "metadata": {},
   "outputs": [],
   "source": []
  }
 ],
 "metadata": {
  "kernelspec": {
   "display_name": "Python 3",
   "language": "python",
   "name": "python3"
  },
  "language_info": {
   "codemirror_mode": {
    "name": "ipython",
    "version": 3
   },
   "file_extension": ".py",
   "mimetype": "text/x-python",
   "name": "python",
   "nbconvert_exporter": "python",
   "pygments_lexer": "ipython3",
   "version": "3.7.3"
  }
 },
 "nbformat": 4,
 "nbformat_minor": 2
}
