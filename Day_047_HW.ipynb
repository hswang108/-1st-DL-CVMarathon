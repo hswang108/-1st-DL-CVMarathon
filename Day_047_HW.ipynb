{
 "cells": [
  {
   "cell_type": "markdown",
   "metadata": {},
   "source": [
    "## [作業重點]\n",
    "了解如何使用 Sklearn 中的 hyper-parameter search 找出最佳的超參數"
   ]
  },
  {
   "cell_type": "markdown",
   "metadata": {},
   "source": [
    "### 作業\n",
    "請使用不同的資料集，並使用 hyper-parameter search 的方式，看能不能找出最佳的超參數組合"
   ]
  },
  {
   "cell_type": "code",
   "execution_count": 1,
   "metadata": {},
   "outputs": [
    {
     "name": "stderr",
     "output_type": "stream",
     "text": [
      "C:\\ProgramData\\Anaconda3\\lib\\importlib\\_bootstrap.py:219: RuntimeWarning: numpy.ufunc size changed, may indicate binary incompatibility. Expected 192 from C header, got 216 from PyObject\n",
      "  return f(*args, **kwds)\n"
     ]
    }
   ],
   "source": [
    "from sklearn import datasets, metrics\n",
    "from sklearn.model_selection import train_test_split, KFold, GridSearchCV\n",
    "from sklearn.ensemble import GradientBoostingRegressor"
   ]
  },
  {
   "cell_type": "code",
   "execution_count": 2,
   "metadata": {},
   "outputs": [
    {
     "name": "stdout",
     "output_type": "stream",
     "text": [
      "0.009292184080955154\n"
     ]
    }
   ],
   "source": [
    "wine = datasets.load_wine()\n",
    "\n",
    "x_train, x_test, y_train, y_test = train_test_split(wine.data, wine.target, test_size = 0.25, random_state = 87)\n",
    "\n",
    "#載入模型(預設)\n",
    "clf = GradientBoostingRegressor()\n",
    "\n",
    "#訓練模型\n",
    "clf.fit(x_train, y_train)\n",
    "\n",
    "#預測結果\n",
    "y_pred = clf.predict(x_test)\n",
    "\n",
    "print(metrics.mean_squared_error(y_test, y_pred))"
   ]
  },
  {
   "cell_type": "code",
   "execution_count": 4,
   "metadata": {},
   "outputs": [
    {
     "data": {
      "text/plain": [
       "{'n_estimators': [100, 200, 300, 400, 500],\n",
       " 'max_depth': [1, 2, 3, 4, 5],\n",
       " 'min_samples_leaf': [1, 2, 3, 4, 5]}"
      ]
     },
     "execution_count": 4,
     "metadata": {},
     "output_type": "execute_result"
    }
   ],
   "source": [
    "#尋找超參數\n",
    "n_estimators = [100, 200, 300, 400, 500]\n",
    "max_depth = [1, 2, 3, 4, 5]\n",
    "min_samples_leaf = [1, 2, 3, 4, 5]\n",
    "\n",
    "#彙整超參數數值於字典\n",
    "param_grid = dict(n_estimators = n_estimators, max_depth = max_depth, min_samples_leaf = min_samples_leaf)\n",
    "param_grid"
   ]
  },
  {
   "cell_type": "code",
   "execution_count": 5,
   "metadata": {},
   "outputs": [
    {
     "name": "stderr",
     "output_type": "stream",
     "text": [
      "C:\\ProgramData\\Anaconda3\\lib\\site-packages\\sklearn\\model_selection\\_split.py:1978: FutureWarning: The default value of cv will change from 3 to 5 in version 0.22. Specify it explicitly to silence this warning.\n",
      "  warnings.warn(CV_WARNING, FutureWarning)\n",
      "[Parallel(n_jobs=-1)]: Using backend LokyBackend with 8 concurrent workers.\n"
     ]
    },
    {
     "name": "stdout",
     "output_type": "stream",
     "text": [
      "Fitting 3 folds for each of 125 candidates, totalling 375 fits\n"
     ]
    },
    {
     "name": "stderr",
     "output_type": "stream",
     "text": [
      "[Parallel(n_jobs=-1)]: Done  34 tasks      | elapsed:    2.1s\n",
      "[Parallel(n_jobs=-1)]: Done 375 out of 375 | elapsed:    5.5s finished\n"
     ]
    }
   ],
   "source": [
    "#建立搜尋物件\n",
    "grid_search = GridSearchCV(clf, param_grid=param_grid, scoring = \"neg_mean_squared_error\", n_jobs = -1, verbose = 1)\n",
    "\n",
    "#開始尋找最佳參數\n",
    "grid_result = grid_search.fit(x_train, y_train)"
   ]
  },
  {
   "cell_type": "code",
   "execution_count": 6,
   "metadata": {},
   "outputs": [
    {
     "name": "stdout",
     "output_type": "stream",
     "text": [
      "Best Accuracy: -0.048681 using {'max_depth': 2, 'min_samples_leaf': 5, 'n_estimators': 400}\n"
     ]
    }
   ],
   "source": [
    "#確認最佳參數\n",
    "print(\"Best Accuracy: %f using %s\" %(grid_result.best_score_, grid_result.best_params_))"
   ]
  },
  {
   "cell_type": "code",
   "execution_count": 7,
   "metadata": {},
   "outputs": [
    {
     "name": "stdout",
     "output_type": "stream",
     "text": [
      "0.022770580827859703\n"
     ]
    }
   ],
   "source": [
    "#使用最佳參數重新建立模型\n",
    "clf_bestparam = GradientBoostingRegressor(n_estimators=grid_result.best_params_[\"n_estimators\"],\n",
    "                                          max_depth=grid_result.best_params_[\"max_depth\"],\n",
    "                                          min_samples_leaf=grid_result.best_params_[\"min_samples_leaf\"])\n",
    "\n",
    "#訓練最佳模型\n",
    "clf_bestparam.fit(x_train, y_train)\n",
    "\n",
    "#取得預測值\n",
    "y_pred = clf_bestparam.predict(x_test)\n",
    "\n",
    "print(metrics.mean_squared_error(y_test, y_pred))"
   ]
  },
  {
   "cell_type": "code",
   "execution_count": null,
   "metadata": {},
   "outputs": [],
   "source": []
  }
 ],
 "metadata": {
  "kernelspec": {
   "display_name": "Python 3",
   "language": "python",
   "name": "python3"
  },
  "language_info": {
   "codemirror_mode": {
    "name": "ipython",
    "version": 3
   },
   "file_extension": ".py",
   "mimetype": "text/x-python",
   "name": "python",
   "nbconvert_exporter": "python",
   "pygments_lexer": "ipython3",
   "version": "3.7.3"
  }
 },
 "nbformat": 4,
 "nbformat_minor": 2
}
